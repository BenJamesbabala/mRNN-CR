{
 "metadata": {
  "name": "",
  "signature": "sha256:50d39a27235f782731a9135c17f8f0983ca7c5433425c9bf0ef8d7bd76e0e0d4"
 },
 "nbformat": 3,
 "nbformat_minor": 0,
 "worksheets": [
  {
   "cells": [
    {
     "cell_type": "code",
     "collapsed": false,
     "input": [
      "from concensus_reranking_utils.consensus_reranking import Consensus_Reranking"
     ],
     "language": "python",
     "metadata": {},
     "outputs": [],
     "prompt_number": 1
    },
    {
     "cell_type": "code",
     "collapsed": false,
     "input": [
      "# Create an CR class\n",
      "cr_mRNN = Consensus_Reranking()\n",
      "# Load anno file list\n",
      "cr_mRNN.load_anno_ref_hypo()\n",
      "# Find NN image\n",
      "cr_mRNN.find_NNimg()\n",
      "# Consensus Rerank\n",
      "cr_mRNN.consensus_rerank(method='bleu')\n",
      "cr_mRNN.consensus_rerank(method='cider')"
     ],
     "language": "python",
     "metadata": {},
     "outputs": []
    }
   ],
   "metadata": {}
  }
 ]
}